{
  "nbformat": 4,
  "nbformat_minor": 0,
  "metadata": {
    "colab": {
      "provenance": [],
      "authorship_tag": "ABX9TyNSTu4h3jfwTxXHXi4UIpfF",
      "include_colab_link": true
    },
    "kernelspec": {
      "name": "python3",
      "display_name": "Python 3"
    },
    "language_info": {
      "name": "python"
    }
  },
  "cells": [
    {
      "cell_type": "markdown",
      "metadata": {
        "id": "view-in-github",
        "colab_type": "text"
      },
      "source": [
        "<a href=\"https://colab.research.google.com/github/Jojojoseph-2403/BI-projects/blob/main/Force%20Analysis%20in%20Ball%20Milling.ipynb\" target=\"_parent\"><img src=\"https://colab.research.google.com/assets/colab-badge.svg\" alt=\"Open In Colab\"/></a>"
      ]
    },
    {
      "cell_type": "code",
      "execution_count": 1,
      "metadata": {
        "id": "WphxPAMb6pl-"
      },
      "outputs": [],
      "source": [
        "import numpy as np\n",
        "import matplotlib.pyplot as plt\n",
        "import math"
      ]
    },
    {
      "cell_type": "code",
      "source": [
        "class BallMillingForceAnalysis:\n",
        "    def __init__(self, jar_radius, ball_radius, rotation_speed):\n",
        "        self.jar_radius = jar_radius  # Radius of the milling jar (m)\n",
        "        self.ball_radius = ball_radius  # Radius of the milling balls (m)\n",
        "        self.rotation_speed = rotation_speed  # Rotation speed of the jar (rad/s)\n",
        "        self.gravity = 9.81  # Acceleration due to gravity (m/s^2)\n",
        "    def centrifugal_force(self, ball_mass):\n",
        "        return ball_mass * self.jar_radius * self.rotation_speed ** 2\n",
        "    def gravitational_force(self, ball_mass):\n",
        "        return ball_mass * self.gravity\n",
        "\n",
        "    def impact_force(self, ball_mass, ball_velocity):\n",
        "        return ball_mass * ball_velocity ** 2 / self.ball_radius\n",
        "    def friction_force(self, ball_mass, ball_velocity, friction_coefficient):\n",
        "        return friction_coefficient * self.gravitational_force(ball_mass)\n",
        "\n",
        "    def total_force(self, ball_mass, ball_velocity, friction_coefficient):\n",
        "        centrifugal = self.centrifugal_force(ball_mass)\n",
        "        gravitational = self.gravitational_force(ball_mass)\n",
        "        impact = self.impact_force(ball_mass, ball_velocity)\n",
        "        friction = self.friction_force(ball_mass, ball_velocity, friction_coefficient)\n",
        "        return centrifugal, gravitational, impact, friction\n",
        "\n",
        "    def plot_forces(self, ball_mass, ball_velocity, friction_coefficient):\n",
        "        centrifugal, gravitational, impact, friction = self.total_force(ball_mass, ball_velocity, friction_coefficient)\n",
        "        forces = [centrifugal, gravitational, impact, friction]\n",
        "        labels = ['Centrifugal', 'Gravitational', 'Impact', 'Friction']\n",
        "        fig, ax = plt.subplots()\n",
        "        ax.bar(labels, forces, color=['blue', 'orange', 'green', 'red'])\n",
        "        ax.set_ylabel('Force (N)')\n",
        "        ax.set_title('Forces in Ball Milling')\n",
        "        plt.show()\n"
      ],
      "metadata": {
        "id": "bfdls5v36zCR"
      },
      "execution_count": 2,
      "outputs": []
    },
    {
      "cell_type": "code",
      "source": [
        "def main():\n",
        "    jar_radius = 0.1  # Example jar radius (m)\n",
        "    ball_radius = 0.02  # Example ball radius (m)\n",
        "    rotation_speed = 10  # Example rotation speed (rad/s)\n",
        "    ball_mass = 0.05  # Example ball mass (kg)\n",
        "    ball_velocity = 2  # Example ball velocity (m/s)\n",
        "    friction_coefficient = 0.2  # Example friction coefficient\n",
        "\n",
        "    analysis = BallMillingForceAnalysis(jar_radius, ball_radius, rotation_speed)\n",
        "    analysis.plot_forces(ball_mass, ball_velocity, friction_coefficient)\n"
      ],
      "metadata": {
        "id": "o2fB4xPY65JE"
      },
      "execution_count": 3,
      "outputs": []
    },
    {
      "cell_type": "code",
      "source": [
        " main()"
      ],
      "metadata": {
        "colab": {
          "base_uri": "https://localhost:8080/",
          "height": 452
        },
        "id": "jV1Czc_W6-pX",
        "outputId": "0b842e2e-b816-401a-e0e1-c71e69600458"
      },
      "execution_count": 4,
      "outputs": [
        {
          "output_type": "display_data",
          "data": {
            "text/plain": [
              "<Figure size 640x480 with 1 Axes>"
            ],
            "image/png": "[encoded data removed]"
          },
          "metadata": {}
        }
      ]
    }
  ]
}